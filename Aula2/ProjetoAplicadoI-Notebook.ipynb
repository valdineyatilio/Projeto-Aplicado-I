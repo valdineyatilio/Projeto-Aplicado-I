{
 "cells": [
  {
   "cell_type": "code",
   "execution_count": 1,
   "id": "f76dba7c-9d07-446d-b282-5079a5797245",
   "metadata": {},
   "outputs": [],
   "source": [
    "import pandas as pd"
   ]
  },
  {
   "cell_type": "code",
   "execution_count": 9,
   "id": "3bd638c4-de9e-4647-9b06-fa1753651cbd",
   "metadata": {},
   "outputs": [],
   "source": [
    "import matplotlib.pyplot as plt"
   ]
  },
  {
   "cell_type": "code",
   "execution_count": 3,
   "id": "a968d488-3ec3-4415-904d-0312b3df5bba",
   "metadata": {},
   "outputs": [],
   "source": [
    "import seaborn as sns"
   ]
  },
  {
   "cell_type": "markdown",
   "id": "ca3e38ba-1239-440e-9ee7-df3fe4cbd537",
   "metadata": {},
   "source": [
    "# Carregar os dados do arquivo CSV com a codificação 'latin1'"
   ]
  },
  {
   "cell_type": "code",
   "execution_count": 4,
   "id": "b83a0d3b-dfec-45e9-aff1-f9d0a34b2b95",
   "metadata": {},
   "outputs": [],
   "source": [
    "url = \"https://raw.githubusercontent.com/valdineyatilio/Projeto-Aplicado-I/main/Aula2/Dados%20YouTube.csv.csv\""
   ]
  },
  {
   "cell_type": "code",
   "execution_count": 10,
   "id": "951a8f48-0ad2-4a61-9a3f-5c6ed4f5dba2",
   "metadata": {},
   "outputs": [],
   "source": [
    "dados_youtube = pd.read_csv(url, encoding='latin1')"
   ]
  },
  {
   "cell_type": "markdown",
   "id": "84a5780a-1bdc-484d-9435-4d30107d25ef",
   "metadata": {},
   "source": [
    "# Visualizar as primeiras linhas do DataFrame"
   ]
  },
  {
   "cell_type": "code",
   "execution_count": 11,
   "id": "bc3bc762-225f-4745-acf2-892c13750e42",
   "metadata": {},
   "outputs": [
    {
     "name": "stdout",
     "output_type": "stream",
     "text": [
      "   rank                    Youtuber  subscribers   video views  \\\n",
      "0     1                    T-Series    245000000  2.280000e+11   \n",
      "1     2              YouTube Movies    170000000  0.000000e+00   \n",
      "2     3                     MrBeast    166000000  2.836884e+10   \n",
      "3     4  Cocomelon - Nursery Rhymes    162000000  1.640000e+11   \n",
      "4     5                   SET India    159000000  1.480000e+11   \n",
      "\n",
      "           category                       Title  uploads        Country  \\\n",
      "0             Music                    T-Series    20082          India   \n",
      "1  Film & Animation               youtubemovies        1  United States   \n",
      "2     Entertainment                     MrBeast      741  United States   \n",
      "3         Education  Cocomelon - Nursery Rhymes      966  United States   \n",
      "4             Shows                   SET India   116536          India   \n",
      "\n",
      "  Abbreviation   channel_type  ...  subscribers_for_last_30_days  \\\n",
      "0           IN          Music  ...                     2000000.0   \n",
      "1           US          Games  ...                           NaN   \n",
      "2           US  Entertainment  ...                     8000000.0   \n",
      "3           US      Education  ...                     1000000.0   \n",
      "4           IN  Entertainment  ...                     1000000.0   \n",
      "\n",
      "   created_year  created_month  created_date  \\\n",
      "0        2006.0            Mar          13.0   \n",
      "1        2006.0            Mar           5.0   \n",
      "2        2012.0            Feb          20.0   \n",
      "3        2006.0            Sep           1.0   \n",
      "4        2006.0            Sep          20.0   \n",
      "\n",
      "   Gross tertiary education enrollment (%)    Population  Unemployment rate  \\\n",
      "0                                     28.1  1.366418e+09               5.36   \n",
      "1                                     88.2  3.282395e+08              14.70   \n",
      "2                                     88.2  3.282395e+08              14.70   \n",
      "3                                     88.2  3.282395e+08              14.70   \n",
      "4                                     28.1  1.366418e+09               5.36   \n",
      "\n",
      "   Urban_population   Latitude  Longitude  \n",
      "0       471031528.0  20.593684  78.962880  \n",
      "1       270663028.0  37.090240 -95.712891  \n",
      "2       270663028.0  37.090240 -95.712891  \n",
      "3       270663028.0  37.090240 -95.712891  \n",
      "4       471031528.0  20.593684  78.962880  \n",
      "\n",
      "[5 rows x 28 columns]\n"
     ]
    }
   ],
   "source": [
    "print(dados_youtube.head())"
   ]
  },
  {
   "cell_type": "markdown",
   "id": "36899c25-5bf5-4463-a817-c7d299e50575",
   "metadata": {},
   "source": [
    "# Verificar informações sobre as colunas e tipos de dados"
   ]
  },
  {
   "cell_type": "code",
   "execution_count": 12,
   "id": "c38dc692-3cf4-4059-8cde-98a8ed724ac7",
   "metadata": {},
   "outputs": [
    {
     "name": "stdout",
     "output_type": "stream",
     "text": [
      "<class 'pandas.core.frame.DataFrame'>\n",
      "RangeIndex: 995 entries, 0 to 994\n",
      "Data columns (total 28 columns):\n",
      " #   Column                                   Non-Null Count  Dtype  \n",
      "---  ------                                   --------------  -----  \n",
      " 0   rank                                     995 non-null    int64  \n",
      " 1   Youtuber                                 995 non-null    object \n",
      " 2   subscribers                              995 non-null    int64  \n",
      " 3   video views                              995 non-null    float64\n",
      " 4   category                                 949 non-null    object \n",
      " 5   Title                                    995 non-null    object \n",
      " 6   uploads                                  995 non-null    int64  \n",
      " 7   Country                                  873 non-null    object \n",
      " 8   Abbreviation                             873 non-null    object \n",
      " 9   channel_type                             965 non-null    object \n",
      " 10  video_views_rank                         994 non-null    float64\n",
      " 11  country_rank                             879 non-null    float64\n",
      " 12  channel_type_rank                        962 non-null    float64\n",
      " 13  video_views_for_the_last_30_days         939 non-null    float64\n",
      " 14  lowest_monthly_earnings                  995 non-null    float64\n",
      " 15  highest_monthly_earnings                 995 non-null    float64\n",
      " 16  lowest_yearly_earnings                   995 non-null    float64\n",
      " 17  highest_yearly_earnings                  995 non-null    float64\n",
      " 18  subscribers_for_last_30_days             658 non-null    float64\n",
      " 19  created_year                             990 non-null    float64\n",
      " 20  created_month                            990 non-null    object \n",
      " 21  created_date                             990 non-null    float64\n",
      " 22  Gross tertiary education enrollment (%)  872 non-null    float64\n",
      " 23  Population                               872 non-null    float64\n",
      " 24  Unemployment rate                        872 non-null    float64\n",
      " 25  Urban_population                         872 non-null    float64\n",
      " 26  Latitude                                 872 non-null    float64\n",
      " 27  Longitude                                872 non-null    float64\n",
      "dtypes: float64(18), int64(3), object(7)\n",
      "memory usage: 217.8+ KB\n",
      "None\n"
     ]
    }
   ],
   "source": [
    "print(dados_youtube.info())"
   ]
  },
  {
   "cell_type": "markdown",
   "id": "349f0fe7-3334-47a3-8045-513f91ddde98",
   "metadata": {},
   "source": [
    "# Resumo estatístico das variáveis numéricas"
   ]
  },
  {
   "cell_type": "code",
   "execution_count": 13,
   "id": "20e252c3-6b6a-4ac0-b39a-d4364225da65",
   "metadata": {},
   "outputs": [
    {
     "name": "stdout",
     "output_type": "stream",
     "text": [
      "            rank   subscribers   video views        uploads  video_views_rank  \\\n",
      "count  995.00000  9.950000e+02  9.950000e+02     995.000000      9.940000e+02   \n",
      "mean   498.00000  2.298241e+07  1.103954e+10    9187.125628      5.542489e+05   \n",
      "std    287.37606  1.752611e+07  1.411084e+10   34151.352254      1.362782e+06   \n",
      "min      1.00000  1.230000e+07  0.000000e+00       0.000000      1.000000e+00   \n",
      "25%    249.50000  1.450000e+07  4.288145e+09     194.500000      3.230000e+02   \n",
      "50%    498.00000  1.770000e+07  7.760820e+09     729.000000      9.155000e+02   \n",
      "75%    746.50000  2.460000e+07  1.355470e+10    2667.500000      3.584500e+03   \n",
      "max    995.00000  2.450000e+08  2.280000e+11  301308.000000      4.057944e+06   \n",
      "\n",
      "       country_rank  channel_type_rank  video_views_for_the_last_30_days  \\\n",
      "count    879.000000         962.000000                      9.390000e+02   \n",
      "mean     386.053470         745.719335                      1.756103e+08   \n",
      "std     1232.244746        1944.386561                      4.163782e+08   \n",
      "min        1.000000           1.000000                      1.000000e+00   \n",
      "25%       11.000000          27.000000                      2.013750e+07   \n",
      "50%       51.000000          65.500000                      6.408500e+07   \n",
      "75%      123.000000         139.750000                      1.688265e+08   \n",
      "max     7741.000000        7741.000000                      6.589000e+09   \n",
      "\n",
      "       lowest_monthly_earnings  highest_monthly_earnings  ...  \\\n",
      "count               995.000000              9.950000e+02  ...   \n",
      "mean              36886.148281              5.898078e+05  ...   \n",
      "std               71858.724092              1.148622e+06  ...   \n",
      "min                   0.000000              0.000000e+00  ...   \n",
      "25%                2700.000000              4.350000e+04  ...   \n",
      "50%               13300.000000              2.127000e+05  ...   \n",
      "75%               37900.000000              6.068000e+05  ...   \n",
      "max              850900.000000              1.360000e+07  ...   \n",
      "\n",
      "       highest_yearly_earnings  subscribers_for_last_30_days  created_year  \\\n",
      "count             9.950000e+02                  6.580000e+02    990.000000   \n",
      "mean              7.081814e+06                  3.490791e+05   2012.630303   \n",
      "std               1.379704e+07                  6.143554e+05      4.512503   \n",
      "min               0.000000e+00                  1.000000e+00   1970.000000   \n",
      "25%               5.217500e+05                  1.000000e+05   2009.000000   \n",
      "50%               2.600000e+06                  2.000000e+05   2013.000000   \n",
      "75%               7.300000e+06                  4.000000e+05   2016.000000   \n",
      "max               1.634000e+08                  8.000000e+06   2022.000000   \n",
      "\n",
      "       created_date  Gross tertiary education enrollment (%)    Population  \\\n",
      "count    990.000000                               872.000000  8.720000e+02   \n",
      "mean      15.746465                                63.627752  4.303873e+08   \n",
      "std        8.777520                                26.106893  4.727947e+08   \n",
      "min        1.000000                                 7.600000  2.025060e+05   \n",
      "25%        8.000000                                36.300000  8.335541e+07   \n",
      "50%       16.000000                                68.000000  3.282395e+08   \n",
      "75%       23.000000                                88.200000  3.282395e+08   \n",
      "max       31.000000                               113.100000  1.397715e+09   \n",
      "\n",
      "       Unemployment rate  Urban_population    Latitude   Longitude  \n",
      "count         872.000000      8.720000e+02  872.000000  872.000000  \n",
      "mean            9.279278      2.242150e+08   26.632783  -14.128146  \n",
      "std             4.888354      1.546874e+08   20.560533   84.760809  \n",
      "min             0.750000      3.558800e+04  -38.416097 -172.104629  \n",
      "25%             5.270000      5.590832e+07   20.593684  -95.712891  \n",
      "50%             9.365000      2.706630e+08   37.090240  -51.925280  \n",
      "75%            14.700000      2.706630e+08   37.090240   78.962880  \n",
      "max            14.720000      8.429340e+08   61.924110  138.252924  \n",
      "\n",
      "[8 rows x 21 columns]\n"
     ]
    }
   ],
   "source": [
    "print(dados_youtube.describe())"
   ]
  },
  {
   "cell_type": "code",
   "execution_count": null,
   "id": "1ff1ba69-c57e-470c-bc5f-b3a3c34b0dae",
   "metadata": {},
   "outputs": [],
   "source": []
  }
 ],
 "metadata": {
  "kernelspec": {
   "display_name": "Python 3 (ipykernel)",
   "language": "python",
   "name": "python3"
  },
  "language_info": {
   "codemirror_mode": {
    "name": "ipython",
    "version": 3
   },
   "file_extension": ".py",
   "mimetype": "text/x-python",
   "name": "python",
   "nbconvert_exporter": "python",
   "pygments_lexer": "ipython3",
   "version": "3.11.7"
  }
 },
 "nbformat": 4,
 "nbformat_minor": 5
}
